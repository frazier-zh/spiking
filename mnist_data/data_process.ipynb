{
 "cells": [
  {
   "cell_type": "code",
   "execution_count": 6,
   "metadata": {},
   "outputs": [],
   "source": [
    "train_images = \"MNIST/train-images.idx3-ubyte\"\n",
    "train_labels = \"MNIST/train-labels.idx1-ubyte\"\n",
    "\n",
    "test_images = \"MNIST/t10k-images.idx3-ubyte\"\n",
    "test_labels = \"MNIST/t10k-labels.idx1-ubyte\"\n",
    "\n",
    "import numpy as np\n",
    "\n",
    "# preprocess data file, with format clearified in 'data/format.txt'\n",
    "def convert_images(filename, npyname):\n",
    "    file = open(filename, 'rb')\n",
    "    \n",
    "    file.read(4)\n",
    "    num = int.from_bytes(file.read(4), byteorder='big')\n",
    "    rows = int.from_bytes(file.read(4), byteorder='big')\n",
    "    cols = int.from_bytes(file.read(4), byteorder='big')\n",
    "\n",
    "    images = np.fromfile(file, dtype=np.uint8, count=num*rows*cols).astype(np.float32).reshape((num, -1))\n",
    "    images /= 256\n",
    "    images /= np.linalg.norm(images, axis=1)[:,None]\n",
    "\n",
    "    np.save(npyname+'.npy', images)\n",
    "\n",
    "def convert_labels(filename, npyname):\n",
    "    file = open(filename, 'rb')\n",
    "    \n",
    "    file.read(4)\n",
    "    num = int.from_bytes(file.read(4), byteorder='big')\n",
    "\n",
    "    labels = np.fromfile(file, dtype=np.uint8, count=num)\n",
    "    \n",
    "    np.save(npyname+'.npy', labels)\n",
    "\n",
    "# python script\n",
    "convert_images(train_images, 'train-images')\n",
    "convert_labels(train_labels, 'train-labels')\n",
    "convert_images(test_images, 'test-images')\n",
    "convert_labels(test_labels, 'test-labels')"
   ]
  },
  {
   "cell_type": "code",
   "execution_count": null,
   "metadata": {},
   "outputs": [],
   "source": []
  }
 ],
 "metadata": {
  "kernelspec": {
   "display_name": "Python 3",
   "language": "python",
   "name": "python3"
  },
  "language_info": {
   "codemirror_mode": {
    "name": "ipython",
    "version": 3
   },
   "file_extension": ".py",
   "mimetype": "text/x-python",
   "name": "python",
   "nbconvert_exporter": "python",
   "pygments_lexer": "ipython3",
   "version": "3.8.5-final"
  }
 },
 "nbformat": 4,
 "nbformat_minor": 2
}
